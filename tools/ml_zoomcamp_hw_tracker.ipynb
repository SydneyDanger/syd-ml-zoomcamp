{
 "cells": [
  {
   "cell_type": "markdown",
   "id": "1b71b813",
   "metadata": {},
   "source": [
    "<h1>Homework Stats and Tracking</h1>"
   ]
  },
  {
   "cell_type": "markdown",
   "id": "ef23d2ce",
   "metadata": {},
   "source": [
    "Check out this project in Colab:\n",
    "<a href=\"https://colab.research.google.com/github/SydneyDanger/syd-ml-zoomcamp/blob/main/tools/ml_zoomcamp_hw_tracker.ipynb\" target=\"_parent\"><img src=\"https://colab.research.google.com/assets/colab-badge.svg\" alt=\"Open In Colab\"/></a>"
   ]
  },
  {
   "cell_type": "code",
   "execution_count": 7,
   "id": "a3816346",
   "metadata": {},
   "outputs": [],
   "source": [
    "from hashlib import sha1\n",
    "import pandas as pd\n",
    "import numpy as np\n",
    "import requests\n",
    "from bs4 import BeautifulSoup\n",
    "\n",
    "def compute_hash(email):\n",
    "    return sha1(email.lower().encode('utf-8')).hexdigest()\n",
    "\n",
    "email = 'sydneyoreilly@gmail.com'\n",
    "your_hash = compute_hash(email)\n",
    "### OR ### Hardcode a hash for testing\n",
    "#your_hash = 'eaecbc75eeb043c71a56a47b971d3701bc0f1cca'\n",
    "\n",
    "# leaderboard url\n",
    "url = 'https://docs.google.com/spreadsheets/d/e/2PACX-1vSNK_yGtELX1RJK1SSRl4xiUbD0XZMYS6uwHnybc7Mql-WMnMgO7hHSu59w-1cE7FeFZjkopbh684UE/pubhtml#'"
   ]
  },
  {
   "cell_type": "code",
   "execution_count": 8,
   "id": "88d64eb4",
   "metadata": {},
   "outputs": [
    {
     "name": "stdout",
     "output_type": "stream",
     "text": [
      "4 assignments found\n"
     ]
    }
   ],
   "source": [
    "# use pandas to grab all df's from google sheet\n",
    "df_list = pd.read_html(url, header=1)\n",
    "\n",
    "# clean and separate dataframes\n",
    "for i in range(len(df_list)):\n",
    "    df_list[i] = df_list[i].drop(df_list[i].index[0])\n",
    "    df_list[i] = df_list[i].drop(df_list[i].columns[0], axis=1)\n",
    "\n",
    "# ignore intro tab\n",
    "df_homework = df_list[1:len(df_list)-1]\n",
    "df_leaderboard = df_list[-1:]\n",
    "\n",
    "# check data was found\n",
    "print(f\"{len(df_homework)} assignments found\")"
   ]
  },
  {
   "cell_type": "code",
   "execution_count": 9,
   "id": "969b5d35",
   "metadata": {},
   "outputs": [
    {
     "name": "stdout",
     "output_type": "stream",
     "text": [
      "Homework 1:\n",
      "Your score: 7/7 (100%)\n",
      "\n",
      "Learning in Public Bonus: 1.0\n",
      "FAQ Contribution Bonus:   0.0\n",
      "Valid code? True\n"
     ]
    },
    {
     "data": {
      "text/html": [
       "<div>\n",
       "<style scoped>\n",
       "    .dataframe tbody tr th:only-of-type {\n",
       "        vertical-align: middle;\n",
       "    }\n",
       "\n",
       "    .dataframe tbody tr th {\n",
       "        vertical-align: top;\n",
       "    }\n",
       "\n",
       "    .dataframe thead th {\n",
       "        text-align: right;\n",
       "    }\n",
       "</style>\n",
       "<table border=\"1\" class=\"dataframe\">\n",
       "  <thead>\n",
       "    <tr style=\"text-align: right;\">\n",
       "      <th></th>\n",
       "      <th>question1</th>\n",
       "      <th>question2</th>\n",
       "      <th>question3</th>\n",
       "      <th>question4</th>\n",
       "      <th>question5</th>\n",
       "      <th>question6</th>\n",
       "      <th>question7</th>\n",
       "      <th>learning_in_public</th>\n",
       "      <th>faq_score</th>\n",
       "      <th>valid_code_link</th>\n",
       "      <th>total_score</th>\n",
       "    </tr>\n",
       "  </thead>\n",
       "  <tbody>\n",
       "    <tr>\n",
       "      <th>129</th>\n",
       "      <td>1.0</td>\n",
       "      <td>1.0</td>\n",
       "      <td>1.0</td>\n",
       "      <td>1.0</td>\n",
       "      <td>1.0</td>\n",
       "      <td>1.0</td>\n",
       "      <td>1.0</td>\n",
       "      <td>1.0</td>\n",
       "      <td>0.0</td>\n",
       "      <td>True</td>\n",
       "      <td>8.0</td>\n",
       "    </tr>\n",
       "  </tbody>\n",
       "</table>\n",
       "</div>"
      ],
      "text/plain": [
       "     question1  question2  question3  question4  question5  question6  \\\n",
       "129        1.0        1.0        1.0        1.0        1.0        1.0   \n",
       "\n",
       "     question7  learning_in_public  faq_score valid_code_link  total_score  \n",
       "129        1.0                 1.0        0.0            True          8.0  "
      ]
     },
     "metadata": {},
     "output_type": "display_data"
    },
    {
     "name": "stdout",
     "output_type": "stream",
     "text": [
      "\n",
      "\n",
      "Homework 2:\n",
      "Your score: 6/6 (100%)\n",
      "\n",
      "Learning in Public Bonus: 1.0\n",
      "FAQ Contribution Bonus:   0.0\n",
      "Valid code? True\n"
     ]
    },
    {
     "data": {
      "text/html": [
       "<div>\n",
       "<style scoped>\n",
       "    .dataframe tbody tr th:only-of-type {\n",
       "        vertical-align: middle;\n",
       "    }\n",
       "\n",
       "    .dataframe tbody tr th {\n",
       "        vertical-align: top;\n",
       "    }\n",
       "\n",
       "    .dataframe thead th {\n",
       "        text-align: right;\n",
       "    }\n",
       "</style>\n",
       "<table border=\"1\" class=\"dataframe\">\n",
       "  <thead>\n",
       "    <tr style=\"text-align: right;\">\n",
       "      <th></th>\n",
       "      <th>question1</th>\n",
       "      <th>question2</th>\n",
       "      <th>question3</th>\n",
       "      <th>question4</th>\n",
       "      <th>question5</th>\n",
       "      <th>question6</th>\n",
       "      <th>learning_in_public</th>\n",
       "      <th>faq_score</th>\n",
       "      <th>valid_code_link</th>\n",
       "      <th>total_score</th>\n",
       "    </tr>\n",
       "  </thead>\n",
       "  <tbody>\n",
       "    <tr>\n",
       "      <th>101</th>\n",
       "      <td>1.0</td>\n",
       "      <td>1.0</td>\n",
       "      <td>1.0</td>\n",
       "      <td>1.0</td>\n",
       "      <td>1.0</td>\n",
       "      <td>1.0</td>\n",
       "      <td>1.0</td>\n",
       "      <td>0.0</td>\n",
       "      <td>True</td>\n",
       "      <td>7.0</td>\n",
       "    </tr>\n",
       "  </tbody>\n",
       "</table>\n",
       "</div>"
      ],
      "text/plain": [
       "     question1  question2  question3  question4  question5  question6  \\\n",
       "101        1.0        1.0        1.0        1.0        1.0        1.0   \n",
       "\n",
       "     learning_in_public  faq_score valid_code_link  total_score  \n",
       "101                 1.0        0.0            True          7.0  "
      ]
     },
     "metadata": {},
     "output_type": "display_data"
    },
    {
     "name": "stdout",
     "output_type": "stream",
     "text": [
      "\n",
      "\n",
      "Homework 3:\n",
      "Your score: 6/6 (100%)\n",
      "\n",
      "Learning in Public Bonus: 1.0\n",
      "FAQ Contribution Bonus:   1.0\n",
      "Valid code? True\n"
     ]
    },
    {
     "data": {
      "text/html": [
       "<div>\n",
       "<style scoped>\n",
       "    .dataframe tbody tr th:only-of-type {\n",
       "        vertical-align: middle;\n",
       "    }\n",
       "\n",
       "    .dataframe tbody tr th {\n",
       "        vertical-align: top;\n",
       "    }\n",
       "\n",
       "    .dataframe thead th {\n",
       "        text-align: right;\n",
       "    }\n",
       "</style>\n",
       "<table border=\"1\" class=\"dataframe\">\n",
       "  <thead>\n",
       "    <tr style=\"text-align: right;\">\n",
       "      <th></th>\n",
       "      <th>question1</th>\n",
       "      <th>question2</th>\n",
       "      <th>question3</th>\n",
       "      <th>question4</th>\n",
       "      <th>question5</th>\n",
       "      <th>question6</th>\n",
       "      <th>learning_in_public</th>\n",
       "      <th>faq_score</th>\n",
       "      <th>valid_code_link</th>\n",
       "      <th>total_score</th>\n",
       "    </tr>\n",
       "  </thead>\n",
       "  <tbody>\n",
       "    <tr>\n",
       "      <th>48</th>\n",
       "      <td>1.0</td>\n",
       "      <td>1.0</td>\n",
       "      <td>1.0</td>\n",
       "      <td>1.0</td>\n",
       "      <td>1.0</td>\n",
       "      <td>1.0</td>\n",
       "      <td>1.0</td>\n",
       "      <td>1.0</td>\n",
       "      <td>True</td>\n",
       "      <td>8.0</td>\n",
       "    </tr>\n",
       "  </tbody>\n",
       "</table>\n",
       "</div>"
      ],
      "text/plain": [
       "    question1  question2  question3  question4  question5  question6  \\\n",
       "48        1.0        1.0        1.0        1.0        1.0        1.0   \n",
       "\n",
       "    learning_in_public  faq_score valid_code_link  total_score  \n",
       "48                 1.0        1.0            True          8.0  "
      ]
     },
     "metadata": {},
     "output_type": "display_data"
    },
    {
     "name": "stdout",
     "output_type": "stream",
     "text": [
      "\n",
      "\n",
      "Homework 4:\n",
      "Your score: 6/6 (100%)\n",
      "\n",
      "Learning in Public Bonus: 1.0\n",
      "FAQ Contribution Bonus:   0.0\n",
      "Valid code? True\n"
     ]
    },
    {
     "data": {
      "text/html": [
       "<div>\n",
       "<style scoped>\n",
       "    .dataframe tbody tr th:only-of-type {\n",
       "        vertical-align: middle;\n",
       "    }\n",
       "\n",
       "    .dataframe tbody tr th {\n",
       "        vertical-align: top;\n",
       "    }\n",
       "\n",
       "    .dataframe thead th {\n",
       "        text-align: right;\n",
       "    }\n",
       "</style>\n",
       "<table border=\"1\" class=\"dataframe\">\n",
       "  <thead>\n",
       "    <tr style=\"text-align: right;\">\n",
       "      <th></th>\n",
       "      <th>question1</th>\n",
       "      <th>question2</th>\n",
       "      <th>question3</th>\n",
       "      <th>question4</th>\n",
       "      <th>question5</th>\n",
       "      <th>question6</th>\n",
       "      <th>learning_in_public</th>\n",
       "      <th>faq_score</th>\n",
       "      <th>valid_code_link</th>\n",
       "      <th>total_score</th>\n",
       "    </tr>\n",
       "  </thead>\n",
       "  <tbody>\n",
       "    <tr>\n",
       "      <th>70</th>\n",
       "      <td>1.0</td>\n",
       "      <td>1.0</td>\n",
       "      <td>1.0</td>\n",
       "      <td>1.0</td>\n",
       "      <td>1.0</td>\n",
       "      <td>1.0</td>\n",
       "      <td>1.0</td>\n",
       "      <td>0.0</td>\n",
       "      <td>True</td>\n",
       "      <td>7.0</td>\n",
       "    </tr>\n",
       "  </tbody>\n",
       "</table>\n",
       "</div>"
      ],
      "text/plain": [
       "    question1  question2  question3  question4  question5  question6  \\\n",
       "70        1.0        1.0        1.0        1.0        1.0        1.0   \n",
       "\n",
       "    learning_in_public  faq_score valid_code_link  total_score  \n",
       "70                 1.0        0.0            True          7.0  "
      ]
     },
     "metadata": {},
     "output_type": "display_data"
    },
    {
     "name": "stdout",
     "output_type": "stream",
     "text": [
      "\n",
      "\n",
      "Leaderboard:\n",
      "You are at position 54/850 on the leaderboard.\n"
     ]
    }
   ],
   "source": [
    "# print personal homework stats for each assignment, and place on leaderboard\n",
    "assignment_number = 1 # for printing\n",
    "\n",
    "# loop through all homework assignment df's\n",
    "for df in df_homework:\n",
    "    print(f\"Homework {assignment_number}:\")\n",
    "    row = df[df.iloc[:, 0] == your_hash]\n",
    "    if not row.empty:\n",
    "        # count number of questions\n",
    "        questions = sum(1 for col in row if col.startswith('question'))\n",
    "        \n",
    "        # calculate score\n",
    "        score = sum(1 for col in row if col.startswith('question') and row[col].values[0] == 1.0)\n",
    "        print(f\"Your score: {score}/{questions} ({(score/questions):.0%})\\n\")\n",
    "        \n",
    "        # show bonus points\n",
    "        lip_bonus = row['learning_in_public'].values[0]\n",
    "        faq_bonus = row['faq_score'].values[0]\n",
    "        valid_code = row['valid_code_link'].values[0]\n",
    "        \n",
    "        print(f\"Learning in Public Bonus: {lip_bonus}\")\n",
    "        print(f\"FAQ Contribution Bonus:   {faq_bonus}\")\n",
    "        print(f\"Valid code? {valid_code}\")\n",
    "        \n",
    "        display(row.iloc[:, 1:])\n",
    "    else:\n",
    "        print(\"Score not found for this assignment\")\n",
    "    assignment_number += 1\n",
    "    print('\\n')\n",
    "\n",
    "# calculate leaderboard position, total score, and highest score for later\n",
    "leaderboard_position = df_leaderboard[0].index[df_leaderboard[0].iloc[:, 0] == your_hash][0] #.tolist()\n",
    "total_score = df_leaderboard[0].loc[leaderboard_position, 'total']\n",
    "highest_score = 30\n",
    "\n",
    "if leaderboard_position:\n",
    "    print(\"Leaderboard:\")\n",
    "    place = df_leaderboard[0].iloc[leaderboard_position]\n",
    "    print(f\"You are at position {leaderboard_position}/{len(df_leaderboard[0])} on the leaderboard.\")\n",
    "else:\n",
    "    print(\"You are not on the leaderboard.\")"
   ]
  },
  {
   "cell_type": "markdown",
   "id": "87716ec9",
   "metadata": {},
   "source": [
    "<h1>Fun Analytics!</h1>"
   ]
  },
  {
   "cell_type": "markdown",
   "id": "bd8cd0fa",
   "metadata": {},
   "source": [
    "<h3>Histogram for visualizing all scores on the leaderboard</h3>\n",
    "Contributed by Sylvia on Slack"
   ]
  },
  {
   "cell_type": "code",
   "execution_count": 4,
   "id": "48053461",
   "metadata": {},
   "outputs": [],
   "source": [
    "# Run if needed! Better to just install in your env\n",
    "#!pip install lxml ipywidgets\n",
    "#!jupyter labextension install @jupyter-widgets/jupyterlab-manager"
   ]
  },
  {
   "cell_type": "code",
   "execution_count": 6,
   "id": "6071b9c8",
   "metadata": {},
   "outputs": [
    {
     "data": {
      "image/png": "[encoded data removed]",
      "text/plain": [
       "<Figure size 640x480 with 1 Axes>"
      ]
     },
     "metadata": {},
     "output_type": "display_data"
    }
   ],
   "source": [
    "import pandas as pd\n",
    "import matplotlib.pyplot as plt\n",
    "import numpy as np\n",
    "import seaborn as sns\n",
    "\n",
    "def plot_leaderboard_histogram(df_leaderboard: pd.DataFrame, total_score: int = None, leaderboard_position: int = None):\n",
    "    # Plotting the histogram\n",
    "    ax = df_leaderboard.total.hist(bins=200, cumulative=True, alpha=.7)\n",
    "    ax.grid(False)\n",
    "    \n",
    "    n = len(df_leaderboard)\n",
    "    ax.hlines(n-100, xmin=0, xmax=df_leaderboard.total.max(), color='black', linestyles=':', label='top 100')\n",
    "    \n",
    "    if total_score is not None and leaderboard_position is not None:\n",
    "        # Plotting the user's position\n",
    "        ax.scatter(x=total_score, y=n - leaderboard_position, color='orange', marker='o', label='Your Position')\n",
    "    \n",
    "    ax.set_xlabel('Total Scores')\n",
    "    ax.set_title('Leaderboard Histogram')\n",
    "    ax.legend()\n",
    "    \n",
    "    plt.show()\n",
    "\n",
    "# plot leaderboard\n",
    "plot_leaderboard_histogram(df_leaderboard[0], total_score, leaderboard_position)"
   ]
  },
  {
   "cell_type": "code",
   "execution_count": null,
   "id": "9aac68b8",
   "metadata": {},
   "outputs": [],
   "source": []
  }
 ],
 "metadata": {
  "kernelspec": {
   "display_name": "Python 3 (ipykernel)",
   "language": "python",
   "name": "python3"
  },
  "language_info": {
   "codemirror_mode": {
    "name": "ipython",
    "version": 3
   },
   "file_extension": ".py",
   "mimetype": "text/x-python",
   "name": "python",
   "nbconvert_exporter": "python",
   "pygments_lexer": "ipython3",
   "version": "3.9.18"
  }
 },
 "nbformat": 4,
 "nbformat_minor": 5
}
