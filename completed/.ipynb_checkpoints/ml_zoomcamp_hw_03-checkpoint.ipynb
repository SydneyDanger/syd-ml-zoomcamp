{
 "cells": [
  {
   "cell_type": "code",
   "execution_count": 1,
   "id": "fd33e147",
   "metadata": {},
   "outputs": [],
   "source": [
    "import pandas as pd\n",
    "import numpy as np\n",
    "import seaborn as sns\n",
    "from sklearn.metrics import mutual_info_score\n",
    "from sklearn.model_selection import train_test_split\n",
    "from sklearn.feature_extraction import DictVectorizer\n",
    "from sklearn.linear_model import LogisticRegression\n",
    "from sklearn.linear_model import Ridge"
   ]
  },
  {
   "cell_type": "code",
   "execution_count": 2,
   "id": "0b0aa39e",
   "metadata": {},
   "outputs": [],
   "source": [
    "df = pd.read_csv('../datasets/data.csv')"
   ]
  },
  {
   "cell_type": "code",
   "execution_count": 3,
   "id": "56b9ff68",
   "metadata": {},
   "outputs": [],
   "source": [
    "# clean and standardize data\n",
    "df.columns = df.columns.str.lower().str.replace(' ', '_')"
   ]
  },
  {
   "cell_type": "code",
   "execution_count": 4,
   "id": "2f509f13",
   "metadata": {},
   "outputs": [],
   "source": [
    "# drop columns not needed\n",
    "delete_list = ['engine_fuel_type', 'driven_wheels', 'number_of_doors', 'market_category', 'vehicle_size', 'popularity']\n",
    "\n",
    "for column in delete_list:\n",
    "    del df[column]"
   ]
  },
  {
   "cell_type": "code",
   "execution_count": 5,
   "id": "b200b611",
   "metadata": {},
   "outputs": [
    {
     "data": {
      "text/html": [
       "<div>\n",
       "<style scoped>\n",
       "    .dataframe tbody tr th:only-of-type {\n",
       "        vertical-align: middle;\n",
       "    }\n",
       "\n",
       "    .dataframe tbody tr th {\n",
       "        vertical-align: top;\n",
       "    }\n",
       "\n",
       "    .dataframe thead th {\n",
       "        text-align: right;\n",
       "    }\n",
       "</style>\n",
       "<table border=\"1\" class=\"dataframe\">\n",
       "  <thead>\n",
       "    <tr style=\"text-align: right;\">\n",
       "      <th></th>\n",
       "      <th>0</th>\n",
       "      <th>1</th>\n",
       "      <th>2</th>\n",
       "      <th>3</th>\n",
       "      <th>4</th>\n",
       "    </tr>\n",
       "  </thead>\n",
       "  <tbody>\n",
       "    <tr>\n",
       "      <th>make</th>\n",
       "      <td>BMW</td>\n",
       "      <td>BMW</td>\n",
       "      <td>BMW</td>\n",
       "      <td>BMW</td>\n",
       "      <td>BMW</td>\n",
       "    </tr>\n",
       "    <tr>\n",
       "      <th>model</th>\n",
       "      <td>1 Series M</td>\n",
       "      <td>1 Series</td>\n",
       "      <td>1 Series</td>\n",
       "      <td>1 Series</td>\n",
       "      <td>1 Series</td>\n",
       "    </tr>\n",
       "    <tr>\n",
       "      <th>year</th>\n",
       "      <td>2011</td>\n",
       "      <td>2011</td>\n",
       "      <td>2011</td>\n",
       "      <td>2011</td>\n",
       "      <td>2011</td>\n",
       "    </tr>\n",
       "    <tr>\n",
       "      <th>engine_hp</th>\n",
       "      <td>335.0</td>\n",
       "      <td>300.0</td>\n",
       "      <td>300.0</td>\n",
       "      <td>230.0</td>\n",
       "      <td>230.0</td>\n",
       "    </tr>\n",
       "    <tr>\n",
       "      <th>engine_cylinders</th>\n",
       "      <td>6.0</td>\n",
       "      <td>6.0</td>\n",
       "      <td>6.0</td>\n",
       "      <td>6.0</td>\n",
       "      <td>6.0</td>\n",
       "    </tr>\n",
       "    <tr>\n",
       "      <th>transmission_type</th>\n",
       "      <td>MANUAL</td>\n",
       "      <td>MANUAL</td>\n",
       "      <td>MANUAL</td>\n",
       "      <td>MANUAL</td>\n",
       "      <td>MANUAL</td>\n",
       "    </tr>\n",
       "    <tr>\n",
       "      <th>vehicle_style</th>\n",
       "      <td>Coupe</td>\n",
       "      <td>Convertible</td>\n",
       "      <td>Coupe</td>\n",
       "      <td>Coupe</td>\n",
       "      <td>Convertible</td>\n",
       "    </tr>\n",
       "    <tr>\n",
       "      <th>highway_mpg</th>\n",
       "      <td>26</td>\n",
       "      <td>28</td>\n",
       "      <td>28</td>\n",
       "      <td>28</td>\n",
       "      <td>28</td>\n",
       "    </tr>\n",
       "    <tr>\n",
       "      <th>city_mpg</th>\n",
       "      <td>19</td>\n",
       "      <td>19</td>\n",
       "      <td>20</td>\n",
       "      <td>18</td>\n",
       "      <td>18</td>\n",
       "    </tr>\n",
       "    <tr>\n",
       "      <th>msrp</th>\n",
       "      <td>46135</td>\n",
       "      <td>40650</td>\n",
       "      <td>36350</td>\n",
       "      <td>29450</td>\n",
       "      <td>34500</td>\n",
       "    </tr>\n",
       "  </tbody>\n",
       "</table>\n",
       "</div>"
      ],
      "text/plain": [
       "                            0            1         2         3            4\n",
       "make                      BMW          BMW       BMW       BMW          BMW\n",
       "model              1 Series M     1 Series  1 Series  1 Series     1 Series\n",
       "year                     2011         2011      2011      2011         2011\n",
       "engine_hp               335.0        300.0     300.0     230.0        230.0\n",
       "engine_cylinders          6.0          6.0       6.0       6.0          6.0\n",
       "transmission_type      MANUAL       MANUAL    MANUAL    MANUAL       MANUAL\n",
       "vehicle_style           Coupe  Convertible     Coupe     Coupe  Convertible\n",
       "highway_mpg                26           28        28        28           28\n",
       "city_mpg                   19           19        20        18           18\n",
       "msrp                    46135        40650     36350     29450        34500"
      ]
     },
     "execution_count": 5,
     "metadata": {},
     "output_type": "execute_result"
    }
   ],
   "source": [
    "df.head().T"
   ]
  },
  {
   "cell_type": "code",
   "execution_count": 6,
   "id": "e27cf360",
   "metadata": {},
   "outputs": [],
   "source": [
    "# rename MSRP column to price\n",
    "df.rename(columns={'msrp': 'price'}, inplace=True)"
   ]
  },
  {
   "cell_type": "code",
   "execution_count": 7,
   "id": "20fb790b",
   "metadata": {},
   "outputs": [
    {
     "data": {
      "text/plain": [
       "make                  0\n",
       "model                 0\n",
       "year                  0\n",
       "engine_hp            69\n",
       "engine_cylinders     30\n",
       "transmission_type     0\n",
       "vehicle_style         0\n",
       "highway_mpg           0\n",
       "city_mpg              0\n",
       "price                 0\n",
       "dtype: int64"
      ]
     },
     "execution_count": 7,
     "metadata": {},
     "output_type": "execute_result"
    }
   ],
   "source": [
    "# find missing data\n",
    "df.isnull().sum()"
   ]
  },
  {
   "cell_type": "code",
   "execution_count": 8,
   "id": "75736942",
   "metadata": {},
   "outputs": [],
   "source": [
    "# fill in missing data\n",
    "df.engine_hp = df.engine_hp.fillna(0)\n",
    "df.engine_cylinders = df.engine_cylinders.fillna(0)"
   ]
  },
  {
   "cell_type": "code",
   "execution_count": 9,
   "id": "0677ebcb",
   "metadata": {},
   "outputs": [
    {
     "data": {
      "text/plain": [
       "make                  object\n",
       "model                 object\n",
       "year                   int64\n",
       "engine_hp            float64\n",
       "engine_cylinders     float64\n",
       "transmission_type     object\n",
       "vehicle_style         object\n",
       "highway_mpg            int64\n",
       "city_mpg               int64\n",
       "price                  int64\n",
       "dtype: object"
      ]
     },
     "execution_count": 9,
     "metadata": {},
     "output_type": "execute_result"
    }
   ],
   "source": [
    "df.dtypes"
   ]
  },
  {
   "cell_type": "markdown",
   "id": "6002185a",
   "metadata": {},
   "source": [
    "<h1>Question 1</h1>\n",
    "What's the most frequent value for 'transmission_type'?"
   ]
  },
  {
   "cell_type": "code",
   "execution_count": 10,
   "id": "2a49c604",
   "metadata": {},
   "outputs": [
    {
     "data": {
      "text/plain": [
       "AUTOMATIC           8266\n",
       "MANUAL              2935\n",
       "AUTOMATED_MANUAL     626\n",
       "DIRECT_DRIVE          68\n",
       "UNKNOWN               19\n",
       "Name: transmission_type, dtype: int64"
      ]
     },
     "execution_count": 10,
     "metadata": {},
     "output_type": "execute_result"
    }
   ],
   "source": [
    "df.transmission_type.value_counts()"
   ]
  },
  {
   "cell_type": "markdown",
   "id": "d8ed45b7",
   "metadata": {},
   "source": [
    "<h1>Question 2</h1>\n",
    "Which numerical features have the biggest correlation?"
   ]
  },
  {
   "cell_type": "code",
   "execution_count": 11,
   "id": "de65335b",
   "metadata": {},
   "outputs": [],
   "source": [
    "# make categorical and numerical lists\n",
    "numerical = ['year', 'engine_hp', 'engine_cylinders', 'highway_mpg', 'city_mpg']\n",
    "categorical = ['make', 'model', 'transmission_type', 'vehicle_style']"
   ]
  },
  {
   "cell_type": "code",
   "execution_count": 12,
   "id": "3d10c8c0",
   "metadata": {},
   "outputs": [],
   "source": [
    "# make correlation matrix of numerical variables\n",
    "corr = df[numerical].corr()"
   ]
  },
  {
   "cell_type": "code",
   "execution_count": 13,
   "id": "70eac051",
   "metadata": {},
   "outputs": [
    {
     "data": {
      "text/plain": [
       "<Axes: >"
      ]
     },
     "execution_count": 13,
     "metadata": {},
     "output_type": "execute_result"
    },
    {
     "data": {
      "image/png": "[encoded data removed]",
      "text/plain": [
       "<Figure size 640x480 with 2 Axes>"
      ]
     },
     "metadata": {},
     "output_type": "display_data"
    }
   ],
   "source": [
    "# view correlation matrix as heatmap with seaborn\n",
    "sns.heatmap(corr, annot=True, fmt=\".2f\", cmap=\"coolwarm\", xticklabels=corr.columns.values, yticklabels=corr.columns.values)"
   ]
  },
  {
   "cell_type": "code",
   "execution_count": 14,
   "id": "4c338229",
   "metadata": {},
   "outputs": [],
   "source": [
    "# convert price variable to a binary value, based on above average\n",
    "mean_price = df.price.mean()\n",
    "df['above_average'] = (df['price'] > mean_price).astype(int)"
   ]
  },
  {
   "cell_type": "code",
   "execution_count": 15,
   "id": "94515eb5",
   "metadata": {},
   "outputs": [
    {
     "data": {
      "text/plain": [
       "(7148, 2383, 2383)"
      ]
     },
     "execution_count": 15,
     "metadata": {},
     "output_type": "execute_result"
    }
   ],
   "source": [
    "# split the data into train, val, test\n",
    "df_full_train, df_test = train_test_split(df, test_size=0.2, random_state=42)\n",
    "df_train, df_val = train_test_split(df_full_train, test_size=0.25, random_state=42)\n",
    "len(df_train), len(df_val), len(df_test)"
   ]
  },
  {
   "cell_type": "code",
   "execution_count": 16,
   "id": "17e3a554",
   "metadata": {},
   "outputs": [],
   "source": [
    "# reset indexes\n",
    "df_full_train = df_full_train.reset_index(drop=True)\n",
    "df_train = df_train.reset_index(drop=True)\n",
    "df_val = df_val.reset_index(drop=True)\n",
    "df_test = df_test.reset_index(drop=True)"
   ]
  },
  {
   "cell_type": "code",
   "execution_count": 17,
   "id": "8d52e968",
   "metadata": {},
   "outputs": [],
   "source": [
    "# get y sets\n",
    "y_train = df_train.above_average.values\n",
    "y_val = df_val.above_average.values\n",
    "y_test = df_test.above_average.values"
   ]
  },
  {
   "cell_type": "markdown",
   "id": "8c8fa4f0",
   "metadata": {},
   "source": [
    "<h1>Question 3</h1>\n",
    "What feature has the lowest mutual information score?"
   ]
  },
  {
   "cell_type": "code",
   "execution_count": 18,
   "id": "638a7998",
   "metadata": {},
   "outputs": [],
   "source": [
    "# define function for calculating mutual info scores for all columns\n",
    "def mutual_info_score_above_average(series):\n",
    "    return mutual_info_score(series, df_full_train.above_average)"
   ]
  },
  {
   "cell_type": "code",
   "execution_count": 19,
   "id": "fcc9dff8",
   "metadata": {},
   "outputs": [
    {
     "data": {
      "text/plain": [
       "model                0.460994\n",
       "make                 0.238724\n",
       "vehicle_style        0.083390\n",
       "transmission_type    0.020884\n",
       "dtype: float64"
      ]
     },
     "execution_count": 19,
     "metadata": {},
     "output_type": "execute_result"
    }
   ],
   "source": [
    "# calculate scores and display in descending order\n",
    "mi = df_full_train[categorical].apply(mutual_info_score_above_average)\n",
    "mi.sort_values(ascending=False)"
   ]
  },
  {
   "cell_type": "markdown",
   "id": "ab6a2e50",
   "metadata": {},
   "source": [
    "<h1>Question 4</h1>\n",
    "Model accuracy"
   ]
  },
  {
   "cell_type": "code",
   "execution_count": 20,
   "id": "9ba56f6b",
   "metadata": {},
   "outputs": [],
   "source": [
    "# establish logistic regression functions\n",
    "def sigmoid(z):\n",
    "    return 1 / (1 + np.exp(-z))\n",
    "\n",
    "def logistic_regression(xi):\n",
    "    score = w0\n",
    "    \n",
    "    for j in range(len(w)):\n",
    "        score += score + xi[j] * w[j]\n",
    "    \n",
    "    result = sigmoid(score)\n",
    "    return result"
   ]
  },
  {
   "cell_type": "code",
   "execution_count": 21,
   "id": "74940208",
   "metadata": {},
   "outputs": [],
   "source": [
    "# one-hot encode all categorical variables\n",
    "dicts_train = df_train[categorical + numerical].to_dict(orient='records')\n",
    "dv = DictVectorizer(sparse=False)\n",
    "X_train = dv.fit_transform(dicts_train)"
   ]
  },
  {
   "cell_type": "code",
   "execution_count": 22,
   "id": "6434af44",
   "metadata": {},
   "outputs": [
    {
     "data": {
      "text/html": [
       "<style>#sk-container-id-1 {color: black;}#sk-container-id-1 pre{padding: 0;}#sk-container-id-1 div.sk-toggleable {background-color: white;}#sk-container-id-1 label.sk-toggleable__label {cursor: pointer;display: block;width: 100%;margin-bottom: 0;padding: 0.3em;box-sizing: border-box;text-align: center;}#sk-container-id-1 label.sk-toggleable__label-arrow:before {content: \"▸\";float: left;margin-right: 0.25em;color: #696969;}#sk-container-id-1 label.sk-toggleable__label-arrow:hover:before {color: black;}#sk-container-id-1 div.sk-estimator:hover label.sk-toggleable__label-arrow:before {color: black;}#sk-container-id-1 div.sk-toggleable__content {max-height: 0;max-width: 0;overflow: hidden;text-align: left;background-color: #f0f8ff;}#sk-container-id-1 div.sk-toggleable__content pre {margin: 0.2em;color: black;border-radius: 0.25em;background-color: #f0f8ff;}#sk-container-id-1 input.sk-toggleable__control:checked~div.sk-toggleable__content {max-height: 200px;max-width: 100%;overflow: auto;}#sk-container-id-1 input.sk-toggleable__control:checked~label.sk-toggleable__label-arrow:before {content: \"▾\";}#sk-container-id-1 div.sk-estimator input.sk-toggleable__control:checked~label.sk-toggleable__label {background-color: #d4ebff;}#sk-container-id-1 div.sk-label input.sk-toggleable__control:checked~label.sk-toggleable__label {background-color: #d4ebff;}#sk-container-id-1 input.sk-hidden--visually {border: 0;clip: rect(1px 1px 1px 1px);clip: rect(1px, 1px, 1px, 1px);height: 1px;margin: -1px;overflow: hidden;padding: 0;position: absolute;width: 1px;}#sk-container-id-1 div.sk-estimator {font-family: monospace;background-color: #f0f8ff;border: 1px dotted black;border-radius: 0.25em;box-sizing: border-box;margin-bottom: 0.5em;}#sk-container-id-1 div.sk-estimator:hover {background-color: #d4ebff;}#sk-container-id-1 div.sk-parallel-item::after {content: \"\";width: 100%;border-bottom: 1px solid gray;flex-grow: 1;}#sk-container-id-1 div.sk-label:hover label.sk-toggleable__label {background-color: #d4ebff;}#sk-container-id-1 div.sk-serial::before {content: \"\";position: absolute;border-left: 1px solid gray;box-sizing: border-box;top: 0;bottom: 0;left: 50%;z-index: 0;}#sk-container-id-1 div.sk-serial {display: flex;flex-direction: column;align-items: center;background-color: white;padding-right: 0.2em;padding-left: 0.2em;position: relative;}#sk-container-id-1 div.sk-item {position: relative;z-index: 1;}#sk-container-id-1 div.sk-parallel {display: flex;align-items: stretch;justify-content: center;background-color: white;position: relative;}#sk-container-id-1 div.sk-item::before, #sk-container-id-1 div.sk-parallel-item::before {content: \"\";position: absolute;border-left: 1px solid gray;box-sizing: border-box;top: 0;bottom: 0;left: 50%;z-index: -1;}#sk-container-id-1 div.sk-parallel-item {display: flex;flex-direction: column;z-index: 1;position: relative;background-color: white;}#sk-container-id-1 div.sk-parallel-item:first-child::after {align-self: flex-end;width: 50%;}#sk-container-id-1 div.sk-parallel-item:last-child::after {align-self: flex-start;width: 50%;}#sk-container-id-1 div.sk-parallel-item:only-child::after {width: 0;}#sk-container-id-1 div.sk-dashed-wrapped {border: 1px dashed gray;margin: 0 0.4em 0.5em 0.4em;box-sizing: border-box;padding-bottom: 0.4em;background-color: white;}#sk-container-id-1 div.sk-label label {font-family: monospace;font-weight: bold;display: inline-block;line-height: 1.2em;}#sk-container-id-1 div.sk-label-container {text-align: center;}#sk-container-id-1 div.sk-container {/* jupyter's `normalize.less` sets `[hidden] { display: none; }` but bootstrap.min.css set `[hidden] { display: none !important; }` so we also need the `!important` here to be able to override the default hidden behavior on the sphinx rendered scikit-learn.org. See: https://github.com/scikit-learn/scikit-learn/issues/21755 */display: inline-block !important;position: relative;}#sk-container-id-1 div.sk-text-repr-fallback {display: none;}</style><div id=\"sk-container-id-1\" class=\"sk-top-container\"><div class=\"sk-text-repr-fallback\"><pre>LogisticRegression(C=10, max_iter=1000, random_state=42, solver=&#x27;liblinear&#x27;)</pre><b>In a Jupyter environment, please rerun this cell to show the HTML representation or trust the notebook. <br />On GitHub, the HTML representation is unable to render, please try loading this page with nbviewer.org.</b></div><div class=\"sk-container\" hidden><div class=\"sk-item\"><div class=\"sk-estimator sk-toggleable\"><input class=\"sk-toggleable__control sk-hidden--visually\" id=\"sk-estimator-id-1\" type=\"checkbox\" checked><label for=\"sk-estimator-id-1\" class=\"sk-toggleable__label sk-toggleable__label-arrow\">LogisticRegression</label><div class=\"sk-toggleable__content\"><pre>LogisticRegression(C=10, max_iter=1000, random_state=42, solver=&#x27;liblinear&#x27;)</pre></div></div></div></div></div>"
      ],
      "text/plain": [
       "LogisticRegression(C=10, max_iter=1000, random_state=42, solver='liblinear')"
      ]
     },
     "execution_count": 22,
     "metadata": {},
     "output_type": "execute_result"
    }
   ],
   "source": [
    "model = LogisticRegression(solver='liblinear', C=10, max_iter=1000, random_state=42)\n",
    "model.fit(X_train, y_train)"
   ]
  },
  {
   "cell_type": "code",
   "execution_count": 23,
   "id": "f699f5df",
   "metadata": {},
   "outputs": [],
   "source": [
    "# repeat for test set\n",
    "dicts_test = df_test[categorical + numerical].to_dict(orient='records')\n",
    "X_test = dv.transform(dicts_test)"
   ]
  },
  {
   "cell_type": "code",
   "execution_count": 24,
   "id": "5034e0cf",
   "metadata": {},
   "outputs": [],
   "source": [
    "y_pred = model.predict(X_test)"
   ]
  },
  {
   "cell_type": "code",
   "execution_count": 25,
   "id": "034b9b6b",
   "metadata": {},
   "outputs": [
    {
     "data": {
      "text/plain": [
       "0.95"
      ]
     },
     "execution_count": 25,
     "metadata": {},
     "output_type": "execute_result"
    }
   ],
   "source": [
    "(y_pred == y_test).mean().round(2)"
   ]
  },
  {
   "cell_type": "markdown",
   "id": "0a663e1e",
   "metadata": {},
   "source": [
    "<h1>Question 5</h1>\n",
    "What feature has the smallest influence on model accuracy?"
   ]
  },
  {
   "cell_type": "code",
   "execution_count": 35,
   "id": "82846213",
   "metadata": {},
   "outputs": [],
   "source": [
    "def train_model(features):\n",
    "    dicts_train = df_train[features].to_dict(orient='records')\n",
    "    dv = DictVectorizer(sparse=False)\n",
    "    X_train = dv.fit_transform(dicts_train)\n",
    "    model = LogisticRegression(solver='liblinear', C=10, max_iter=1000, random_state=42)\n",
    "    model.fit(X_train, y_train)\n",
    "    dicts_test = df_test[features].to_dict(orient='records')\n",
    "    X_test = dv.transform(dicts_test)\n",
    "    y_pred = model.predict(X_test)\n",
    "    accuracy = (y_pred == y_test).mean()\n",
    "    return accuracy"
   ]
  },
  {
   "cell_type": "code",
   "execution_count": 36,
   "id": "097c2e05",
   "metadata": {},
   "outputs": [],
   "source": [
    "all_features = ['year', 'engine_hp', 'transmission_type', 'city_mpg']"
   ]
  },
  {
   "cell_type": "code",
   "execution_count": 37,
   "id": "8fa64f0b",
   "metadata": {},
   "outputs": [
    {
     "data": {
      "text/plain": [
       "0.8661351237935375"
      ]
     },
     "execution_count": 37,
     "metadata": {},
     "output_type": "execute_result"
    }
   ],
   "source": [
    "original_accuracy = train_model(all_features)\n",
    "original_accuracy"
   ]
  },
  {
   "cell_type": "code",
   "execution_count": 38,
   "id": "801c158c",
   "metadata": {},
   "outputs": [
    {
     "name": "stdout",
     "output_type": "stream",
     "text": [
      "Accuracy with all features: 0.8661351237935375\n",
      "With year removed: 0.8715904322282837\n",
      "Difference: -0.0054553084347461755\n",
      "With engine_hp removed: 0.7582878724297104\n",
      "Difference: 0.10784725136382711\n",
      "With transmission_type removed: 0.8678136802349979\n",
      "Difference: -0.0016785564414604215\n",
      "With city_mpg removed: 0.8606798153587915\n",
      "Difference: 0.0054553084347460645\n",
      "\n",
      "Least influential variable: transmission_type\n",
      "{-0.0054553084347461755: 'year', 0.10784725136382711: 'engine_hp', -0.0016785564414604215: 'transmission_type', 0.0054553084347460645: 'city_mpg'}\n"
     ]
    }
   ],
   "source": [
    "print(f\"Accuracy with all features: {original_accuracy}\")\n",
    "\n",
    "diffs = []\n",
    "\n",
    "for i in range(len(all_features)):\n",
    "    if i == 0:\n",
    "        new_features = all_features[i+1:]\n",
    "    else:\n",
    "        new_features = all_features[:i] + all_features[i+1:]\n",
    "    accuracy = train_model(new_features)\n",
    "    print(f\"With {all_features[i]} removed: {accuracy}\")\n",
    "    diff = original_accuracy - accuracy\n",
    "    diffs += [diff]\n",
    "    print(f\"Difference: {diff}\")\n",
    "\n",
    "min_diff = min(diffs, key=lambda x: abs(x))\n",
    "differences = dict(zip(diffs, all_features))\n",
    "\n",
    "print(f\"\\nLeast influential variable: {differences[min_diff]}\")\n",
    "print(differences)"
   ]
  },
  {
   "cell_type": "markdown",
   "id": "97f13754",
   "metadata": {},
   "source": [
    "<h1>Question 6</h1>\n",
    "Find the best alpha with Scikit-Learn and Linear Regression"
   ]
  },
  {
   "cell_type": "code",
   "execution_count": 108,
   "id": "69770b1f",
   "metadata": {},
   "outputs": [],
   "source": [
    "# write model testing function\n",
    "def train_ridge_model(alpha=0):\n",
    "    dicts_train = df_train[numerical + categorical].to_dict(orient='records')\n",
    "    dv = DictVectorizer() # not using sparse=False\n",
    "    X_train = dv.fit_transform(dicts_train)\n",
    "    ridge_model = Ridge(solver='sag', random_state=42, max_iter=1000, alpha=alpha)\n",
    "    ridge_model.fit(X_train, y_train_log)\n",
    "    dicts_val = df_val[numerical + categorical].to_dict(orient='records')\n",
    "    X_val = dv.transform(dicts_val)\n",
    "    y_pred = ridge_model.predict(X_val)\n",
    "    return rmse(y_val_log, y_pred)\n",
    "\n",
    "def rmse(y, y_pred):\n",
    "    se = (y - y_pred) ** 2\n",
    "    mse = se.mean()\n",
    "    return np.sqrt(mse)"
   ]
  },
  {
   "cell_type": "code",
   "execution_count": 109,
   "id": "abd10e05",
   "metadata": {},
   "outputs": [],
   "source": [
    "# apply log transformation on prices from training set\n",
    "y_train_log = np.log1p(df_train['price'].values)\n",
    "y_val_log = np.log1p(df_val['price'].values)"
   ]
  },
  {
   "cell_type": "code",
   "execution_count": 110,
   "id": "d5ef1448",
   "metadata": {},
   "outputs": [
    {
     "name": "stdout",
     "output_type": "stream",
     "text": [
      "0.255 alpha: 0.0 \n",
      "0.255 alpha: 0.01 \n",
      "0.255 alpha: 0.1 \n",
      "0.258 alpha: 1.0 \n",
      "0.336 alpha: 10.0 \n"
     ]
    }
   ],
   "source": [
    "for i in [0.00, 0.01, 0.10, 1.00, 10.0]:\n",
    "    result = train_ridge_model(i)\n",
    "    print(f\"{result.round(3)} alpha: {i} \")"
   ]
  }
 ],
 "metadata": {
  "kernelspec": {
   "display_name": "Python 3 (ipykernel)",
   "language": "python",
   "name": "python3"
  },
  "language_info": {
   "codemirror_mode": {
    "name": "ipython",
    "version": 3
   },
   "file_extension": ".py",
   "mimetype": "text/x-python",
   "name": "python",
   "nbconvert_exporter": "python",
   "pygments_lexer": "ipython3",
   "version": "3.11.4"
  }
 },
 "nbformat": 4,
 "nbformat_minor": 5
}
