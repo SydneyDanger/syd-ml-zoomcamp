{
 "cells": [
  {
   "cell_type": "markdown",
   "id": "a5707ba0",
   "metadata": {},
   "source": [
    "<h1>Evaluation Metrics for Classification</h1>"
   ]
  },
  {
   "cell_type": "code",
   "execution_count": 351,
   "id": "40901729",
   "metadata": {},
   "outputs": [],
   "source": [
    "import pandas as pd\n",
    "import numpy as np\n",
    "import matplotlib.pyplot as plt"
   ]
  },
  {
   "cell_type": "code",
   "execution_count": 352,
   "id": "fe5af4a2",
   "metadata": {},
   "outputs": [],
   "source": [
    "from sklearn.model_selection import train_test_split\n",
    "from sklearn.feature_extraction import DictVectorizer\n",
    "from sklearn.linear_model import LogisticRegression"
   ]
  },
  {
   "cell_type": "code",
   "execution_count": 353,
   "id": "44805f02",
   "metadata": {},
   "outputs": [],
   "source": [
    "df = pd.read_csv('../datasets/telco_customer_churn.csv')\n",
    "df.columns = df.columns.str.lower().str.replace(' ', '_')\n",
    "categorical_columns = list(df.dtypes[df.dtypes == 'object'].index)\n",
    "\n",
    "for c in categorical_columns:\n",
    "    df[c] = df[c].str.lower().str.replace(' ', '_')\n",
    "\n",
    "df.totalcharges = pd.to_numeric(df.totalcharges, errors='coerce')\n",
    "df.totalcharges = df.totalcharges.fillna(0)\n",
    "\n",
    "df.churn = (df.churn == 'yes').astype(int)"
   ]
  },
  {
   "cell_type": "code",
   "execution_count": 354,
   "id": "dd8e9339",
   "metadata": {},
   "outputs": [],
   "source": [
    "df_full_train, df_test = train_test_split(df, test_size=0.2, random_state=1)\n",
    "df_train, df_val = train_test_split(df_full_train, test_size=0.25, random_state=1)\n",
    "\n",
    "df_train = df_train.reset_index(drop=True)\n",
    "df_val = df_val.reset_index(drop=True)\n",
    "df_test = df_test.reset_index(drop=True)\n",
    "\n",
    "y_train = df_train.churn.values\n",
    "y_val = df_val.churn.values\n",
    "y_test = df_test.churn.values\n",
    "\n",
    "del df_train['churn']\n",
    "del df_val['churn']\n",
    "del df_test['churn']"
   ]
  },
  {
   "cell_type": "code",
   "execution_count": 355,
   "id": "a3ad4193",
   "metadata": {},
   "outputs": [
    {
     "data": {
      "text/plain": [
       "customerid           object\n",
       "gender               object\n",
       "seniorcitizen         int64\n",
       "partner              object\n",
       "dependents           object\n",
       "tenure                int64\n",
       "phoneservice         object\n",
       "multiplelines        object\n",
       "internetservice      object\n",
       "onlinesecurity       object\n",
       "onlinebackup         object\n",
       "deviceprotection     object\n",
       "techsupport          object\n",
       "streamingtv          object\n",
       "streamingmovies      object\n",
       "contract             object\n",
       "paperlessbilling     object\n",
       "paymentmethod        object\n",
       "monthlycharges      float64\n",
       "totalcharges        float64\n",
       "churn                 int32\n",
       "dtype: object"
      ]
     },
     "execution_count": 355,
     "metadata": {},
     "output_type": "execute_result"
    }
   ],
   "source": [
    "df.dtypes"
   ]
  },
  {
   "cell_type": "code",
   "execution_count": 356,
   "id": "f9ce3abb",
   "metadata": {},
   "outputs": [],
   "source": [
    "numerical = ['tenure', 'monthlycharges', 'totalcharges']\n",
    "categorical = [\n",
    "    'gender',\n",
    "    'seniorcitizen',\n",
    "    'partner',\n",
    "    'dependents',\n",
    "    'phoneservice',\n",
    "    'multiplelines',\n",
    "    'internetservice',\n",
    "    'onlinesecurity',\n",
    "    'onlinebackup',\n",
    "    'deviceprotection',\n",
    "    'techsupport',\n",
    "    'streamingtv',\n",
    "    'streamingmovies',\n",
    "    'contract',\n",
    "    'paperlessbilling',\n",
    "    'paymentmethod',\n",
    "]"
   ]
  },
  {
   "cell_type": "code",
   "execution_count": 357,
   "id": "78efeb66",
   "metadata": {},
   "outputs": [
    {
     "data": {
      "text/html": [
       "<style>#sk-container-id-3 {color: black;}#sk-container-id-3 pre{padding: 0;}#sk-container-id-3 div.sk-toggleable {background-color: white;}#sk-container-id-3 label.sk-toggleable__label {cursor: pointer;display: block;width: 100%;margin-bottom: 0;padding: 0.3em;box-sizing: border-box;text-align: center;}#sk-container-id-3 label.sk-toggleable__label-arrow:before {content: \"▸\";float: left;margin-right: 0.25em;color: #696969;}#sk-container-id-3 label.sk-toggleable__label-arrow:hover:before {color: black;}#sk-container-id-3 div.sk-estimator:hover label.sk-toggleable__label-arrow:before {color: black;}#sk-container-id-3 div.sk-toggleable__content {max-height: 0;max-width: 0;overflow: hidden;text-align: left;background-color: #f0f8ff;}#sk-container-id-3 div.sk-toggleable__content pre {margin: 0.2em;color: black;border-radius: 0.25em;background-color: #f0f8ff;}#sk-container-id-3 input.sk-toggleable__control:checked~div.sk-toggleable__content {max-height: 200px;max-width: 100%;overflow: auto;}#sk-container-id-3 input.sk-toggleable__control:checked~label.sk-toggleable__label-arrow:before {content: \"▾\";}#sk-container-id-3 div.sk-estimator input.sk-toggleable__control:checked~label.sk-toggleable__label {background-color: #d4ebff;}#sk-container-id-3 div.sk-label input.sk-toggleable__control:checked~label.sk-toggleable__label {background-color: #d4ebff;}#sk-container-id-3 input.sk-hidden--visually {border: 0;clip: rect(1px 1px 1px 1px);clip: rect(1px, 1px, 1px, 1px);height: 1px;margin: -1px;overflow: hidden;padding: 0;position: absolute;width: 1px;}#sk-container-id-3 div.sk-estimator {font-family: monospace;background-color: #f0f8ff;border: 1px dotted black;border-radius: 0.25em;box-sizing: border-box;margin-bottom: 0.5em;}#sk-container-id-3 div.sk-estimator:hover {background-color: #d4ebff;}#sk-container-id-3 div.sk-parallel-item::after {content: \"\";width: 100%;border-bottom: 1px solid gray;flex-grow: 1;}#sk-container-id-3 div.sk-label:hover label.sk-toggleable__label {background-color: #d4ebff;}#sk-container-id-3 div.sk-serial::before {content: \"\";position: absolute;border-left: 1px solid gray;box-sizing: border-box;top: 0;bottom: 0;left: 50%;z-index: 0;}#sk-container-id-3 div.sk-serial {display: flex;flex-direction: column;align-items: center;background-color: white;padding-right: 0.2em;padding-left: 0.2em;position: relative;}#sk-container-id-3 div.sk-item {position: relative;z-index: 1;}#sk-container-id-3 div.sk-parallel {display: flex;align-items: stretch;justify-content: center;background-color: white;position: relative;}#sk-container-id-3 div.sk-item::before, #sk-container-id-3 div.sk-parallel-item::before {content: \"\";position: absolute;border-left: 1px solid gray;box-sizing: border-box;top: 0;bottom: 0;left: 50%;z-index: -1;}#sk-container-id-3 div.sk-parallel-item {display: flex;flex-direction: column;z-index: 1;position: relative;background-color: white;}#sk-container-id-3 div.sk-parallel-item:first-child::after {align-self: flex-end;width: 50%;}#sk-container-id-3 div.sk-parallel-item:last-child::after {align-self: flex-start;width: 50%;}#sk-container-id-3 div.sk-parallel-item:only-child::after {width: 0;}#sk-container-id-3 div.sk-dashed-wrapped {border: 1px dashed gray;margin: 0 0.4em 0.5em 0.4em;box-sizing: border-box;padding-bottom: 0.4em;background-color: white;}#sk-container-id-3 div.sk-label label {font-family: monospace;font-weight: bold;display: inline-block;line-height: 1.2em;}#sk-container-id-3 div.sk-label-container {text-align: center;}#sk-container-id-3 div.sk-container {/* jupyter's `normalize.less` sets `[hidden] { display: none; }` but bootstrap.min.css set `[hidden] { display: none !important; }` so we also need the `!important` here to be able to override the default hidden behavior on the sphinx rendered scikit-learn.org. See: https://github.com/scikit-learn/scikit-learn/issues/21755 */display: inline-block !important;position: relative;}#sk-container-id-3 div.sk-text-repr-fallback {display: none;}</style><div id=\"sk-container-id-3\" class=\"sk-top-container\"><div class=\"sk-text-repr-fallback\"><pre>LogisticRegression()</pre><b>In a Jupyter environment, please rerun this cell to show the HTML representation or trust the notebook. <br />On GitHub, the HTML representation is unable to render, please try loading this page with nbviewer.org.</b></div><div class=\"sk-container\" hidden><div class=\"sk-item\"><div class=\"sk-estimator sk-toggleable\"><input class=\"sk-toggleable__control sk-hidden--visually\" id=\"sk-estimator-id-3\" type=\"checkbox\" checked><label for=\"sk-estimator-id-3\" class=\"sk-toggleable__label sk-toggleable__label-arrow\">LogisticRegression</label><div class=\"sk-toggleable__content\"><pre>LogisticRegression()</pre></div></div></div></div></div>"
      ],
      "text/plain": [
       "LogisticRegression()"
      ]
     },
     "execution_count": 357,
     "metadata": {},
     "output_type": "execute_result"
    }
   ],
   "source": [
    "dv = DictVectorizer(sparse=False)\n",
    "\n",
    "train_dict = df_train[categorical + numerical].to_dict(orient='records')\n",
    "X_train = dv.fit_transform(train_dict)\n",
    "\n",
    "model = LogisticRegression()\n",
    "model.fit(X_train, y_train)"
   ]
  },
  {
   "cell_type": "code",
   "execution_count": 358,
   "id": "d5eff3ad",
   "metadata": {},
   "outputs": [
    {
     "data": {
      "text/plain": [
       "0.8034066713981547"
      ]
     },
     "execution_count": 358,
     "metadata": {},
     "output_type": "execute_result"
    }
   ],
   "source": [
    "val_dict = df_val[categorical + numerical].to_dict(orient='records')\n",
    "X_val = dv.transform(val_dict)\n",
    "\n",
    "y_pred = model.predict_proba(X_val)[:, 1]\n",
    "churn_decision = (y_pred >= 0.5)\n",
    "(y_val == churn_decision).mean()"
   ]
  },
  {
   "cell_type": "markdown",
   "id": "c5e0e5ec",
   "metadata": {},
   "source": [
    "<h1>4.2 Accuracy and Dummy Model</h1>\n",
    "<ul>\n",
    "    <li>Evaluate the model on different thresholds</li>\n",
    "    <li>Check the accuracy of dummy baselines</li>\n",
    "</ul>"
   ]
  },
  {
   "cell_type": "code",
   "execution_count": 359,
   "id": "962eab2a",
   "metadata": {},
   "outputs": [
    {
     "data": {
      "text/plain": [
       "1409"
      ]
     },
     "execution_count": 359,
     "metadata": {},
     "output_type": "execute_result"
    }
   ],
   "source": [
    "len(y_val)"
   ]
  },
  {
   "cell_type": "code",
   "execution_count": 360,
   "id": "71b33678",
   "metadata": {},
   "outputs": [
    {
     "data": {
      "text/plain": [
       "0.8034066713981547"
      ]
     },
     "execution_count": 360,
     "metadata": {},
     "output_type": "execute_result"
    }
   ],
   "source": [
    "(y_val == churn_decision).mean()"
   ]
  },
  {
   "cell_type": "code",
   "execution_count": 361,
   "id": "a8b60b16",
   "metadata": {},
   "outputs": [
    {
     "data": {
      "text/plain": [
       "array([0.  , 0.05, 0.1 , 0.15, 0.2 , 0.25, 0.3 , 0.35, 0.4 , 0.45, 0.5 ,\n",
       "       0.55, 0.6 , 0.65, 0.7 , 0.75, 0.8 , 0.85, 0.9 , 0.95, 1.  ])"
      ]
     },
     "execution_count": 361,
     "metadata": {},
     "output_type": "execute_result"
    }
   ],
   "source": [
    "# we can move the threshold to see if it affects the accuracy\n",
    "# create a range of thresholds\n",
    "thresholds = np.linspace(0, 1, 21)\n",
    "thresholds"
   ]
  },
  {
   "cell_type": "code",
   "execution_count": null,
   "id": "77cabeaf",
   "metadata": {},
   "outputs": [],
   "source": []
  },
  {
   "cell_type": "code",
   "execution_count": 362,
   "id": "fc8938d5",
   "metadata": {},
   "outputs": [
    {
     "name": "stdout",
     "output_type": "stream",
     "text": [
      "Threshold: 0.00 Accuracy: 27.40%\n",
      "Threshold: 0.05 Accuracy: 50.89%\n",
      "Threshold: 0.10 Accuracy: 59.12%\n",
      "Threshold: 0.15 Accuracy: 66.64%\n",
      "Threshold: 0.20 Accuracy: 70.97%\n",
      "Threshold: 0.25 Accuracy: 73.88%\n",
      "Threshold: 0.30 Accuracy: 76.01%\n",
      "Threshold: 0.35 Accuracy: 77.22%\n",
      "Threshold: 0.40 Accuracy: 78.50%\n",
      "Threshold: 0.45 Accuracy: 79.35%\n",
      "Threshold: 0.50 Accuracy: 80.34%\n",
      "Threshold: 0.55 Accuracy: 80.13%\n",
      "Threshold: 0.60 Accuracy: 79.49%\n",
      "Threshold: 0.65 Accuracy: 78.64%\n",
      "Threshold: 0.70 Accuracy: 76.58%\n",
      "Threshold: 0.75 Accuracy: 74.45%\n",
      "Threshold: 0.80 Accuracy: 73.46%\n",
      "Threshold: 0.85 Accuracy: 72.60%\n",
      "Threshold: 0.90 Accuracy: 72.60%\n",
      "Threshold: 0.95 Accuracy: 72.60%\n",
      "Threshold: 1.00 Accuracy: 72.60%\n"
     ]
    }
   ],
   "source": [
    "# test each threshold and calculate the accuracy\n",
    "scores = []\n",
    "\n",
    "for t in thresholds:\n",
    "    #score = (y_val == churn_decision).mean() <- can calculate your own accuracy, or use scikit-learn\n",
    "    from sklearn.metrics import accuracy_score\n",
    "    score = accuracy_score(y_val, y_pred >= t)\n",
    "    print('Threshold: %.2f Accuracy: %.2f' % (t, score * 100) + '%')\n",
    "    scores.append(score)"
   ]
  },
  {
   "cell_type": "code",
   "execution_count": 363,
   "id": "0c9cd1eb",
   "metadata": {},
   "outputs": [
    {
     "data": {
      "text/plain": [
       "[<matplotlib.lines.Line2D at 0x2381f26c310>]"
      ]
     },
     "execution_count": 363,
     "metadata": {},
     "output_type": "execute_result"
    },
    {
     "data": {
      "image/png": "[encoded data removed]",
      "text/plain": [
       "<Figure size 640x480 with 1 Axes>"
      ]
     },
     "metadata": {},
     "output_type": "display_data"
    }
   ],
   "source": [
    "plt.plot(thresholds, scores)\n",
    "# this plot tells us that at 1.0 the model is predicting everyone to churn and gets it\n",
    "# correct around 73% of the time. This is because around 73% of customers stick around\n",
    "# this means our accuracy is not much better at calculating churn than just not calculating at all."
   ]
  },
  {
   "cell_type": "code",
   "execution_count": 364,
   "id": "a5479b7a",
   "metadata": {},
   "outputs": [
    {
     "data": {
      "text/plain": [
       "Counter({False: 1409})"
      ]
     },
     "execution_count": 364,
     "metadata": {},
     "output_type": "execute_result"
    }
   ],
   "source": [
    "# validate that there are no values above 1.0\n",
    "from collections import Counter\n",
    "Counter(y_pred >= 1.0)"
   ]
  },
  {
   "cell_type": "code",
   "execution_count": 365,
   "id": "1eb3f8de",
   "metadata": {},
   "outputs": [
    {
     "data": {
      "text/plain": [
       "0.2739531582682754"
      ]
     },
     "execution_count": 365,
     "metadata": {},
     "output_type": "execute_result"
    }
   ],
   "source": [
    "y_val.mean() # 27% of users are churning"
   ]
  },
  {
   "cell_type": "markdown",
   "id": "c65b9ec7",
   "metadata": {},
   "source": [
    "<h1>4.3 Confusion Tables</h1>\n",
    "We need a different model structure to account for the class imbalance (a majority of users do not churn)\n",
    "<ul>\n",
    "    <li>Different types of errors and correct decisions</li>\n",
    "    <li>Arranging them in a table</li>\n",
    "</ul>"
   ]
  },
  {
   "cell_type": "code",
   "execution_count": 366,
   "id": "8d49ac5f",
   "metadata": {},
   "outputs": [],
   "source": [
    "actual_positive = (y_val == 1) # people who are going to churn\n",
    "actual_negative = (y_val == 0) # people who won't churn\n",
    "\n",
    "t = 0.5\n",
    "predict_positive = (y_pred >= t)\n",
    "predict_negative = (y_pred < t)"
   ]
  },
  {
   "cell_type": "code",
   "execution_count": 367,
   "id": "9dcd5885",
   "metadata": {},
   "outputs": [],
   "source": [
    "# true positives\n",
    "tp = (predict_positive & actual_positive).sum()\n",
    "# true negatives\n",
    "tn = (predict_negative & actual_negative).sum()\n",
    "# false positives\n",
    "fp = (predict_positive & actual_negative).sum()\n",
    "# false negatives\n",
    "fn = (predict_negative & actual_positive).sum()"
   ]
  },
  {
   "cell_type": "code",
   "execution_count": 368,
   "id": "0facfae5",
   "metadata": {},
   "outputs": [
    {
     "name": "stdout",
     "output_type": "stream",
     "text": [
      "210 922 101 176\n"
     ]
    }
   ],
   "source": [
    "print(tp, tn, fp, fn)"
   ]
  },
  {
   "cell_type": "code",
   "execution_count": 369,
   "id": "4f4e06cb",
   "metadata": {},
   "outputs": [
    {
     "data": {
      "text/plain": [
       "array([[922, 101],\n",
       "       [176, 210]])"
      ]
     },
     "execution_count": 369,
     "metadata": {},
     "output_type": "execute_result"
    }
   ],
   "source": [
    "confusion_matrix = np.array([\n",
    "    [tn, fp],\n",
    "    [fn, tp]\n",
    "])\n",
    "confusion_matrix"
   ]
  },
  {
   "cell_type": "code",
   "execution_count": 370,
   "id": "e45e6244",
   "metadata": {},
   "outputs": [
    {
     "data": {
      "text/plain": [
       "array([[0.654, 0.072],\n",
       "       [0.125, 0.149]])"
      ]
     },
     "execution_count": 370,
     "metadata": {},
     "output_type": "execute_result"
    }
   ],
   "source": [
    "# calculate in terms of percentages \n",
    "(confusion_matrix / confusion_matrix.sum()).round(3)"
   ]
  },
  {
   "cell_type": "markdown",
   "id": "cd7e3fbb",
   "metadata": {},
   "source": [
    "<h1>4.4 Precision and Recall</h1>"
   ]
  },
  {
   "cell_type": "code",
   "execution_count": 371,
   "id": "bc8ba27f",
   "metadata": {},
   "outputs": [
    {
     "data": {
      "text/plain": [
       "0.6752411575562701"
      ]
     },
     "execution_count": 371,
     "metadata": {},
     "output_type": "execute_result"
    }
   ],
   "source": [
    "# precision is the fraction of positive predictions that were correct\n",
    "# (customers who were predicted to and did churn, out of all customers predicted to churn)\n",
    "p = tp / (tp + fp)\n",
    "p\n",
    "\n",
    "# the model incorrectly predicts a churn for 33% of the customers predicted to churn"
   ]
  },
  {
   "cell_type": "code",
   "execution_count": 372,
   "id": "7f6d5d0c",
   "metadata": {},
   "outputs": [
    {
     "data": {
      "text/plain": [
       "0.5440414507772021"
      ]
     },
     "execution_count": 372,
     "metadata": {},
     "output_type": "execute_result"
    }
   ],
   "source": [
    "# recall is the fraction of correctly identified positive examples\n",
    "# (customers who were predicted to and did churn, out of all customers that did churn)\n",
    "r = tp / (tp + fn)\n",
    "r\n",
    "\n",
    "# the model fails to identify 46% of the customers who actually do churn"
   ]
  },
  {
   "cell_type": "markdown",
   "id": "b2888e99",
   "metadata": {},
   "source": [
    "<h1>4.5 ROC Curves</h1>"
   ]
  },
  {
   "cell_type": "code",
   "execution_count": 373,
   "id": "2c109133",
   "metadata": {},
   "outputs": [],
   "source": [
    "# true positive rate: how many correctly identified positives out of all the actual positives\n",
    "tpr = tp / (tp + fn)\n",
    "# false positive rate: how many incorrectly identified positives (actual negatives) out of all the actual negatives\n",
    "fpr = fp / (tn + fp)"
   ]
  },
  {
   "cell_type": "code",
   "execution_count": 374,
   "id": "89eb8908",
   "metadata": {},
   "outputs": [
    {
     "data": {
      "text/plain": [
       "0.5440414507772021"
      ]
     },
     "execution_count": 374,
     "metadata": {},
     "output_type": "execute_result"
    }
   ],
   "source": [
    "# same as recall\n",
    "tpr"
   ]
  },
  {
   "cell_type": "code",
   "execution_count": 375,
   "id": "89ee46ab",
   "metadata": {},
   "outputs": [
    {
     "data": {
      "text/plain": [
       "0.09872922776148582"
      ]
     },
     "execution_count": 375,
     "metadata": {},
     "output_type": "execute_result"
    }
   ],
   "source": [
    "fpr"
   ]
  },
  {
   "cell_type": "code",
   "execution_count": 376,
   "id": "6a0e2a7d",
   "metadata": {},
   "outputs": [],
   "source": [
    "# iterate over different thresholds to find the optimal one\n",
    "scores = []\n",
    "\n",
    "# set up an array of thresholds\n",
    "thresholds = np.linspace(0, 1, 101)\n",
    "\n",
    "for t in thresholds:\n",
    "    actual_positive = (y_val == 1)\n",
    "    actual_negative = (y_val == 0)\n",
    "    \n",
    "    predict_positive = (y_pred >= t) # above threshold\n",
    "    predict_negative = (y_pred < t) # below threshold\n",
    "\n",
    "    tp = (predict_positive & actual_positive).sum()\n",
    "    tn = (predict_negative & actual_negative).sum()\n",
    "    fp = (predict_positive & actual_negative).sum()\n",
    "    fn = (predict_negative & actual_positive).sum()\n",
    "    \n",
    "    scores.append((t, tp, fp, fn, tn))"
   ]
  },
  {
   "cell_type": "code",
   "execution_count": 377,
   "id": "ba8c2597",
   "metadata": {},
   "outputs": [],
   "source": [
    "# create a dataframe for all threshold rates, and scores\n",
    "columns = ['threshold', 'tp', 'fp', 'fn', 'tn']\n",
    "df_scores = pd.DataFrame(scores, columns=columns)\n",
    "\n",
    "# calculate columns for true positive rate and false positive rate\n",
    "df_scores['tpr'] = df_scores.tp / (df_scores.tp + df_scores.fn)\n",
    "df_scores['fpr'] = df_scores.fp / (df_scores.fp + df_scores.tn)"
   ]
  },
  {
   "cell_type": "code",
   "execution_count": 378,
   "id": "01cd3584",
   "metadata": {},
   "outputs": [
    {
     "data": {
      "text/plain": [
       "<matplotlib.legend.Legend at 0x2381f42e310>"
      ]
     },
     "execution_count": 378,
     "metadata": {},
     "output_type": "execute_result"
    },
    {
     "data": {
      "image/png": "[encoded data removed]",
      "text/plain": [
       "<Figure size 640x480 with 1 Axes>"
      ]
     },
     "metadata": {},
     "output_type": "display_data"
    }
   ],
   "source": [
    "# plot true positive vs false positive rates\n",
    "plt.plot(df_scores.threshold, df_scores['tpr'], label=\"TPR\")\n",
    "plt.plot(df_scores.threshold, df_scores['fpr'], label=\"FPR\")\n",
    "plt.legend()"
   ]
  },
  {
   "cell_type": "code",
   "execution_count": 379,
   "id": "0a4a69e7",
   "metadata": {},
   "outputs": [],
   "source": [
    "# Create a randomized model of churn predictions\n",
    "y_rand = np.random.uniform(0, 1, size=len(y_val))"
   ]
  },
  {
   "cell_type": "code",
   "execution_count": 380,
   "id": "34cca5c8",
   "metadata": {},
   "outputs": [
    {
     "data": {
      "text/plain": [
       "array([0.44753176, 0.41664572, 0.44130723, ..., 0.18779532, 0.0123721 ,\n",
       "       0.99835105])"
      ]
     },
     "execution_count": 380,
     "metadata": {},
     "output_type": "execute_result"
    }
   ],
   "source": [
    "y_rand"
   ]
  },
  {
   "cell_type": "code",
   "execution_count": 381,
   "id": "b3f14b35",
   "metadata": {},
   "outputs": [
    {
     "data": {
      "text/plain": [
       "0.49112845990063875"
      ]
     },
     "execution_count": 381,
     "metadata": {},
     "output_type": "execute_result"
    }
   ],
   "source": [
    "# accuracy of randomized model\n",
    "((y_rand >= 0.5) == y_val).mean()"
   ]
  },
  {
   "cell_type": "code",
   "execution_count": 382,
   "id": "723897f7",
   "metadata": {},
   "outputs": [],
   "source": [
    "# create function for testing\n",
    "def tpr_fpr_dataframe(y_val, y_pred):\n",
    "    # iterate over different thresholds to find the optimal one\n",
    "    scores = []\n",
    "\n",
    "    # set up an array of thresholds\n",
    "    thresholds = np.linspace(0, 1, 101)\n",
    "\n",
    "    for t in thresholds:\n",
    "        actual_positive = (y_val == 1)\n",
    "        actual_negative = (y_val == 0)\n",
    "\n",
    "        predict_positive = (y_pred >= t) # above threshold\n",
    "        predict_negative = (y_pred < t) # below threshold\n",
    "\n",
    "        tp = (predict_positive & actual_positive).sum()\n",
    "        tn = (predict_negative & actual_negative).sum()\n",
    "        fp = (predict_positive & actual_negative).sum()\n",
    "        fn = (predict_negative & actual_positive).sum()\n",
    "\n",
    "        scores.append((t, tp, fp, fn, tn))\n",
    "        \n",
    "    # create a dataframe for all threshold rates, and scores\n",
    "    columns = ['threshold', 'tp', 'fp', 'fn', 'tn']\n",
    "    df_scores = pd.DataFrame(scores, columns=columns)\n",
    "\n",
    "    # calculate columns for true positive rate and false positive rate\n",
    "    df_scores['tpr'] = df_scores.tp / (df_scores.tp + df_scores.fn)\n",
    "    df_scores['fpr'] = df_scores.fp / (df_scores.fp + df_scores.tn)\n",
    "    \n",
    "    return df_scores"
   ]
  },
  {
   "cell_type": "code",
   "execution_count": 383,
   "id": "f5845672",
   "metadata": {},
   "outputs": [
    {
     "data": {
      "text/html": [
       "<div>\n",
       "<style scoped>\n",
       "    .dataframe tbody tr th:only-of-type {\n",
       "        vertical-align: middle;\n",
       "    }\n",
       "\n",
       "    .dataframe tbody tr th {\n",
       "        vertical-align: top;\n",
       "    }\n",
       "\n",
       "    .dataframe thead th {\n",
       "        text-align: right;\n",
       "    }\n",
       "</style>\n",
       "<table border=\"1\" class=\"dataframe\">\n",
       "  <thead>\n",
       "    <tr style=\"text-align: right;\">\n",
       "      <th></th>\n",
       "      <th>threshold</th>\n",
       "      <th>tp</th>\n",
       "      <th>fp</th>\n",
       "      <th>fn</th>\n",
       "      <th>tn</th>\n",
       "      <th>tpr</th>\n",
       "      <th>fpr</th>\n",
       "    </tr>\n",
       "  </thead>\n",
       "  <tbody>\n",
       "    <tr>\n",
       "      <th>0</th>\n",
       "      <td>0.0</td>\n",
       "      <td>386</td>\n",
       "      <td>1023</td>\n",
       "      <td>0</td>\n",
       "      <td>0</td>\n",
       "      <td>1.000000</td>\n",
       "      <td>1.000000</td>\n",
       "    </tr>\n",
       "    <tr>\n",
       "      <th>10</th>\n",
       "      <td>0.1</td>\n",
       "      <td>349</td>\n",
       "      <td>933</td>\n",
       "      <td>37</td>\n",
       "      <td>90</td>\n",
       "      <td>0.904145</td>\n",
       "      <td>0.912023</td>\n",
       "    </tr>\n",
       "    <tr>\n",
       "      <th>20</th>\n",
       "      <td>0.2</td>\n",
       "      <td>311</td>\n",
       "      <td>838</td>\n",
       "      <td>75</td>\n",
       "      <td>185</td>\n",
       "      <td>0.805699</td>\n",
       "      <td>0.819159</td>\n",
       "    </tr>\n",
       "    <tr>\n",
       "      <th>30</th>\n",
       "      <td>0.3</td>\n",
       "      <td>266</td>\n",
       "      <td>730</td>\n",
       "      <td>120</td>\n",
       "      <td>293</td>\n",
       "      <td>0.689119</td>\n",
       "      <td>0.713587</td>\n",
       "    </tr>\n",
       "    <tr>\n",
       "      <th>40</th>\n",
       "      <td>0.4</td>\n",
       "      <td>238</td>\n",
       "      <td>622</td>\n",
       "      <td>148</td>\n",
       "      <td>401</td>\n",
       "      <td>0.616580</td>\n",
       "      <td>0.608016</td>\n",
       "    </tr>\n",
       "    <tr>\n",
       "      <th>50</th>\n",
       "      <td>0.5</td>\n",
       "      <td>192</td>\n",
       "      <td>523</td>\n",
       "      <td>194</td>\n",
       "      <td>500</td>\n",
       "      <td>0.497409</td>\n",
       "      <td>0.511241</td>\n",
       "    </tr>\n",
       "    <tr>\n",
       "      <th>60</th>\n",
       "      <td>0.6</td>\n",
       "      <td>161</td>\n",
       "      <td>422</td>\n",
       "      <td>225</td>\n",
       "      <td>601</td>\n",
       "      <td>0.417098</td>\n",
       "      <td>0.412512</td>\n",
       "    </tr>\n",
       "    <tr>\n",
       "      <th>70</th>\n",
       "      <td>0.7</td>\n",
       "      <td>124</td>\n",
       "      <td>321</td>\n",
       "      <td>262</td>\n",
       "      <td>702</td>\n",
       "      <td>0.321244</td>\n",
       "      <td>0.313783</td>\n",
       "    </tr>\n",
       "    <tr>\n",
       "      <th>80</th>\n",
       "      <td>0.8</td>\n",
       "      <td>81</td>\n",
       "      <td>214</td>\n",
       "      <td>305</td>\n",
       "      <td>809</td>\n",
       "      <td>0.209845</td>\n",
       "      <td>0.209189</td>\n",
       "    </tr>\n",
       "    <tr>\n",
       "      <th>90</th>\n",
       "      <td>0.9</td>\n",
       "      <td>41</td>\n",
       "      <td>118</td>\n",
       "      <td>345</td>\n",
       "      <td>905</td>\n",
       "      <td>0.106218</td>\n",
       "      <td>0.115347</td>\n",
       "    </tr>\n",
       "    <tr>\n",
       "      <th>100</th>\n",
       "      <td>1.0</td>\n",
       "      <td>0</td>\n",
       "      <td>0</td>\n",
       "      <td>386</td>\n",
       "      <td>1023</td>\n",
       "      <td>0.000000</td>\n",
       "      <td>0.000000</td>\n",
       "    </tr>\n",
       "  </tbody>\n",
       "</table>\n",
       "</div>"
      ],
      "text/plain": [
       "     threshold   tp    fp   fn    tn       tpr       fpr\n",
       "0          0.0  386  1023    0     0  1.000000  1.000000\n",
       "10         0.1  349   933   37    90  0.904145  0.912023\n",
       "20         0.2  311   838   75   185  0.805699  0.819159\n",
       "30         0.3  266   730  120   293  0.689119  0.713587\n",
       "40         0.4  238   622  148   401  0.616580  0.608016\n",
       "50         0.5  192   523  194   500  0.497409  0.511241\n",
       "60         0.6  161   422  225   601  0.417098  0.412512\n",
       "70         0.7  124   321  262   702  0.321244  0.313783\n",
       "80         0.8   81   214  305   809  0.209845  0.209189\n",
       "90         0.9   41   118  345   905  0.106218  0.115347\n",
       "100        1.0    0     0  386  1023  0.000000  0.000000"
      ]
     },
     "execution_count": 383,
     "metadata": {},
     "output_type": "execute_result"
    }
   ],
   "source": [
    "# compare the validation dataset to the randomly generated set\n",
    "df_rand = tpr_fpr_dataframe(y_val, y_rand)\n",
    "\n",
    "df_rand[::10]"
   ]
  },
  {
   "cell_type": "code",
   "execution_count": 384,
   "id": "60dee70b",
   "metadata": {},
   "outputs": [
    {
     "data": {
      "text/plain": [
       "<matplotlib.legend.Legend at 0x238210e1ee0>"
      ]
     },
     "execution_count": 384,
     "metadata": {},
     "output_type": "execute_result"
    },
    {
     "data": {
      "image/png": "[encoded data removed]",
      "text/plain": [
       "<Figure size 640x480 with 1 Axes>"
      ]
     },
     "metadata": {},
     "output_type": "display_data"
    }
   ],
   "source": [
    "plt.plot(df_rand.threshold, df_rand['tpr'], label=\"TPR\")\n",
    "plt.plot(df_rand.threshold, df_rand['fpr'], label=\"FPR\")\n",
    "plt.legend()"
   ]
  },
  {
   "cell_type": "markdown",
   "id": "4c310ac3",
   "metadata": {},
   "source": [
    "<h3>Ideal model:</h3>\n",
    "Create an ideal model to benchmark your real-world one against"
   ]
  },
  {
   "cell_type": "code",
   "execution_count": 385,
   "id": "3b3157c1",
   "metadata": {},
   "outputs": [
    {
     "data": {
      "text/plain": [
       "(1023, 386)"
      ]
     },
     "execution_count": 385,
     "metadata": {},
     "output_type": "execute_result"
    }
   ],
   "source": [
    "# get counts of negatives and positives\n",
    "num_neg = (y_val == 0).sum()\n",
    "num_pos = (y_val == 1).sum()\n",
    "num_neg, num_pos"
   ]
  },
  {
   "cell_type": "code",
   "execution_count": 386,
   "id": "bae2d491",
   "metadata": {},
   "outputs": [
    {
     "data": {
      "text/plain": [
       "array([0, 0, 0, ..., 1, 1, 1])"
      ]
     },
     "execution_count": 386,
     "metadata": {},
     "output_type": "execute_result"
    }
   ],
   "source": [
    "# create a sorted array, with num_neg zeros and num_pos ones\n",
    "# this will represent the ideal sorted set of y values\n",
    "# it will act as a validation set\n",
    "y_ideal = np.repeat([0, 1], [num_neg, num_pos])\n",
    "y_ideal"
   ]
  },
  {
   "cell_type": "code",
   "execution_count": 387,
   "id": "f500baeb",
   "metadata": {},
   "outputs": [],
   "source": [
    "# create a sorted array of values from 0 to 1, to represent\n",
    "# the ideal sorted array of predictions\n",
    "y_ideal_pred = np.linspace(0, 1, len(y_val))"
   ]
  },
  {
   "cell_type": "code",
   "execution_count": 388,
   "id": "edd5bcf4",
   "metadata": {},
   "outputs": [
    {
     "data": {
      "text/plain": [
       "0.7260468417317246"
      ]
     },
     "execution_count": 388,
     "metadata": {},
     "output_type": "execute_result"
    }
   ],
   "source": [
    "# percentage of negative values\n",
    "1 - y_val.mean()"
   ]
  },
  {
   "cell_type": "code",
   "execution_count": 389,
   "id": "703cbd7e",
   "metadata": {},
   "outputs": [
    {
     "data": {
      "text/plain": [
       "1.0"
      ]
     },
     "execution_count": 389,
     "metadata": {},
     "output_type": "execute_result"
    }
   ],
   "source": [
    "# using the exact percentage of negative values in the dataset will place\n",
    "# the threshold exactly at the point in the dataset where it goes from 0 to 1.\n",
    "((y_ideal_pred >= 0.726) == y_ideal).mean()"
   ]
  },
  {
   "cell_type": "code",
   "execution_count": 390,
   "id": "249db6b5",
   "metadata": {},
   "outputs": [],
   "source": [
    "df_ideal = tpr_fpr_dataframe(y_ideal, y_ideal_pred)"
   ]
  },
  {
   "cell_type": "code",
   "execution_count": 391,
   "id": "072acfa6",
   "metadata": {},
   "outputs": [
    {
     "data": {
      "text/plain": [
       "<matplotlib.legend.Legend at 0x2382125ca90>"
      ]
     },
     "execution_count": 391,
     "metadata": {},
     "output_type": "execute_result"
    },
    {
     "data": {
      "image/png": "[encoded data removed]",
      "text/plain": [
       "<Figure size 640x480 with 1 Axes>"
      ]
     },
     "metadata": {},
     "output_type": "display_data"
    }
   ],
   "source": [
    "plt.plot(df_ideal.threshold, df_ideal['tpr'], label=\"TPR\")\n",
    "plt.plot(df_ideal.threshold, df_ideal['fpr'], label=\"FPR\")\n",
    "plt.legend()"
   ]
  },
  {
   "cell_type": "markdown",
   "id": "de7014d0",
   "metadata": {},
   "source": [
    "<h3>Putting it all together:</h3>"
   ]
  },
  {
   "cell_type": "code",
   "execution_count": 392,
   "id": "e511de5d",
   "metadata": {},
   "outputs": [
    {
     "data": {
      "text/plain": [
       "<matplotlib.legend.Legend at 0x2380f3c7730>"
      ]
     },
     "execution_count": 392,
     "metadata": {},
     "output_type": "execute_result"
    },
    {
     "data": {
      "image/png": "[encoded data removed]",
      "text/plain": [
       "<Figure size 640x480 with 1 Axes>"
      ]
     },
     "metadata": {},
     "output_type": "display_data"
    }
   ],
   "source": [
    "# plot all graphs together to determine \n",
    "plt.plot(df_scores.threshold, df_scores['tpr'], label=\"ACTUAL TPR\")\n",
    "plt.plot(df_scores.threshold, df_scores['fpr'], label=\"ACTUAL FPR\")\n",
    "\n",
    "#plt.plot(df_rand.threshold, df_rand['tpr'], label=\"RANDOM TPR\", color='green')\n",
    "#plt.plot(df_rand.threshold, df_rand['fpr'], label=\"RANDOM FPR\", color='green')\n",
    "\n",
    "plt.plot(df_ideal.threshold, df_ideal['tpr'], label=\"IDEAL TPR\", color='black')\n",
    "plt.plot(df_ideal.threshold, df_ideal['fpr'], label=\"IDEAL FPR\", color='black')\n",
    "plt.legend()"
   ]
  },
  {
   "cell_type": "code",
   "execution_count": 393,
   "id": "3edaaefa",
   "metadata": {},
   "outputs": [
    {
     "data": {
      "text/plain": [
       "<matplotlib.legend.Legend at 0x2381d355ac0>"
      ]
     },
     "execution_count": 393,
     "metadata": {},
     "output_type": "execute_result"
    },
    {
     "data": {
      "image/png": "[encoded data removed]",
      "text/plain": [
       "<Figure size 500x500 with 1 Axes>"
      ]
     },
     "metadata": {},
     "output_type": "display_data"
    }
   ],
   "source": [
    "# plot the false positive rate against true positive rate\n",
    "# for model and benchmarks\n",
    "\n",
    "# we want it displayed as a square\n",
    "plt.figure(figsize=(5,5))\n",
    "\n",
    "plt.plot(df_scores.fpr, df_scores.tpr, label=\"MODEL\", color='orange')\n",
    "#plt.plot(df_rand.fpr, df_rand.tpr, label=\"RANDOM\", color='gray')\n",
    "plt.plot([0, 1], [0, 1], label=\"RANDOM\", linestyle='--')\n",
    "#plt.plot(df_ideal.fpr, df_ideal.tpr, label=\"IDEAL\", color='green')\n",
    "\n",
    "plt.xlabel('False Positive Rate')\n",
    "plt.ylabel('True Positive Rate')\n",
    "plt.legend()"
   ]
  },
  {
   "cell_type": "markdown",
   "id": "5bfbcd1b",
   "metadata": {},
   "source": [
    "<h1>4.6 ROC AUC</h1>\n",
    "Area Under Curve - useful metric"
   ]
  },
  {
   "cell_type": "code",
   "execution_count": 394,
   "id": "c32b4ade",
   "metadata": {},
   "outputs": [],
   "source": [
    "from sklearn.metrics import roc_curve"
   ]
  },
  {
   "cell_type": "code",
   "execution_count": 395,
   "id": "d5de6bed",
   "metadata": {},
   "outputs": [],
   "source": [
    "fpr, tpr, thresholds = roc_curve(y_val, y_pred)"
   ]
  },
  {
   "cell_type": "code",
   "execution_count": 396,
   "id": "54470944",
   "metadata": {},
   "outputs": [
    {
     "data": {
      "text/plain": [
       "<matplotlib.legend.Legend at 0x238212bd070>"
      ]
     },
     "execution_count": 396,
     "metadata": {},
     "output_type": "execute_result"
    },
    {
     "data": {
      "image/png": "[encoded data removed]",
      "text/plain": [
       "<Figure size 500x500 with 1 Axes>"
      ]
     },
     "metadata": {},
     "output_type": "display_data"
    }
   ],
   "source": [
    "# difference between scikit-learn model and the one we wrote\n",
    "# is that sklearn uses every data point, instead of our linspace\n",
    "plt.figure(figsize=(5,5))\n",
    "\n",
    "plt.plot(fpr, tpr, label=\"MODEL\", color='orange')\n",
    "plt.plot([0, 1], [0, 1], label=\"RANDOM\", linestyle='--')\n",
    "\n",
    "plt.xlabel('False Positive Rate')\n",
    "plt.ylabel('True Positive Rate')\n",
    "plt.legend()"
   ]
  },
  {
   "cell_type": "code",
   "execution_count": 397,
   "id": "00a83d9c",
   "metadata": {},
   "outputs": [],
   "source": [
    "from sklearn.metrics import auc"
   ]
  },
  {
   "cell_type": "code",
   "execution_count": 398,
   "id": "02f2060a",
   "metadata": {},
   "outputs": [
    {
     "data": {
      "text/plain": [
       "0.8438530381535563"
      ]
     },
     "execution_count": 398,
     "metadata": {},
     "output_type": "execute_result"
    }
   ],
   "source": [
    "auc(fpr, tpr)"
   ]
  },
  {
   "cell_type": "code",
   "execution_count": 399,
   "id": "295c922b",
   "metadata": {},
   "outputs": [
    {
     "data": {
      "text/plain": [
       "0.8438732975754537"
      ]
     },
     "execution_count": 399,
     "metadata": {},
     "output_type": "execute_result"
    }
   ],
   "source": [
    "# sklearn model is slightly more accurate because it uses a larger threshold range than we used\n",
    "auc(df_scores.fpr, df_scores.tpr)"
   ]
  },
  {
   "cell_type": "code",
   "execution_count": 400,
   "id": "b58c145b",
   "metadata": {},
   "outputs": [
    {
     "data": {
      "text/plain": [
       "0.9999430203759136"
      ]
     },
     "execution_count": 400,
     "metadata": {},
     "output_type": "execute_result"
    }
   ],
   "source": [
    "# very close to 1.0\n",
    "auc(df_ideal.fpr, df_ideal.tpr)"
   ]
  },
  {
   "cell_type": "code",
   "execution_count": 401,
   "id": "0204846a",
   "metadata": {},
   "outputs": [
    {
     "data": {
      "text/plain": [
       "0.8438732975754537"
      ]
     },
     "execution_count": 401,
     "metadata": {},
     "output_type": "execute_result"
    }
   ],
   "source": [
    "fpr, tpr, thresholds = roc_curve(y_val, y_pred)\n",
    "auc(df_scores.fpr, df_scores.tpr)"
   ]
  },
  {
   "cell_type": "code",
   "execution_count": 402,
   "id": "abc8b7c9",
   "metadata": {},
   "outputs": [],
   "source": [
    "from sklearn.metrics import roc_auc_score"
   ]
  },
  {
   "cell_type": "code",
   "execution_count": 403,
   "id": "c4d62995",
   "metadata": {},
   "outputs": [
    {
     "data": {
      "text/plain": [
       "0.8438530381535563"
      ]
     },
     "execution_count": 403,
     "metadata": {},
     "output_type": "execute_result"
    }
   ],
   "source": [
    "roc_auc_score(y_val, y_pred)"
   ]
  },
  {
   "cell_type": "code",
   "execution_count": 404,
   "id": "f6b5f6c9",
   "metadata": {},
   "outputs": [],
   "source": [
    "neg = y_pred[y_val == 0]\n",
    "pos = y_pred[y_val == 1]"
   ]
  },
  {
   "cell_type": "code",
   "execution_count": 405,
   "id": "63e6dee3",
   "metadata": {},
   "outputs": [
    {
     "data": {
      "text/plain": [
       "0.84455"
      ]
     },
     "execution_count": 405,
     "metadata": {},
     "output_type": "execute_result"
    }
   ],
   "source": [
    "import random\n",
    "\n",
    "n = 100000\n",
    "success = 0\n",
    "\n",
    "for i in range(n):\n",
    "    pos_ind = random.randint(0, len(pos) - 1)\n",
    "    neg_ind = random.randint(0, len(neg) - 1)\n",
    "\n",
    "    if pos[pos_ind] > neg[neg_ind]:\n",
    "        success = success + 1\n",
    "\n",
    "success / n\n",
    "# result of this should be pretty close to actual AUC\n",
    "# tells us how well our model can order customers"
   ]
  },
  {
   "cell_type": "code",
   "execution_count": 406,
   "id": "dc51ecfd",
   "metadata": {},
   "outputs": [],
   "source": [
    "# np randint is inclusive of the lower number and exclusive of the higher\n",
    "n = 10000\n",
    "pos_ind = np.random.randint(0, len(pos), size=n)\n",
    "neg_ind = np.random.randint(0, len(neg), size=n)"
   ]
  },
  {
   "cell_type": "code",
   "execution_count": 407,
   "id": "336030b6",
   "metadata": {},
   "outputs": [
    {
     "data": {
      "text/plain": [
       "0.8379"
      ]
     },
     "execution_count": 407,
     "metadata": {},
     "output_type": "execute_result"
    }
   ],
   "source": [
    "(pos[pos_ind] > neg[neg_ind]).mean()"
   ]
  },
  {
   "cell_type": "markdown",
   "id": "5618bddf",
   "metadata": {},
   "source": [
    "<h1>4.7 Cross Validation</h1>\n",
    "Evaluating the same model on different subesets of data\n",
    "Getting the average prediction and the spread within predictions"
   ]
  },
  {
   "cell_type": "code",
   "execution_count": 408,
   "id": "c2322b5c",
   "metadata": {},
   "outputs": [],
   "source": [
    "# takes df to make feature matrix, y to feed model\n",
    "def train(df_train, y_train, C=1.0):\n",
    "    dicts = df_train[categorical + numerical].to_dict(orient='records')\n",
    "    \n",
    "    dv = DictVectorizer(sparse=False)\n",
    "    # feature matrix\n",
    "    X_train = dv.fit_transform(dicts)\n",
    "    \n",
    "    # C is regularization\n",
    "    model = LogisticRegression(C=C, max_iter=1000)\n",
    "    model.fit(X_train, y_train)\n",
    "    \n",
    "    return dv, model"
   ]
  },
  {
   "cell_type": "code",
   "execution_count": 409,
   "id": "1d7e59a1",
   "metadata": {},
   "outputs": [],
   "source": [
    "def predict(df, dv, model):\n",
    "    dicts = df[categorical + numerical].to_dict(orient='records')\n",
    "    \n",
    "    X = dv.transform(dicts)\n",
    "    y_pred = model.predict_proba(X)[:, 1]\n",
    "    \n",
    "    return y_pred"
   ]
  },
  {
   "cell_type": "code",
   "execution_count": 410,
   "id": "5e9cf569",
   "metadata": {},
   "outputs": [
    {
     "data": {
      "text/plain": [
       "array([0.00899622, 0.20453899, 0.21223998, ..., 0.13638818, 0.79978198,\n",
       "       0.837419  ])"
      ]
     },
     "execution_count": 410,
     "metadata": {},
     "output_type": "execute_result"
    }
   ],
   "source": [
    "# returns numpy array with predictions\n",
    "predict(df_val, dv, model)"
   ]
  },
  {
   "cell_type": "code",
   "execution_count": 411,
   "id": "9390e892",
   "metadata": {},
   "outputs": [],
   "source": [
    "# we have two functions to use, now let's implement k-fold validation\n",
    "from sklearn.model_selection import KFold"
   ]
  },
  {
   "cell_type": "code",
   "execution_count": 412,
   "id": "6e3b7ae0",
   "metadata": {},
   "outputs": [
    {
     "data": {
      "application/vnd.jupyter.widget-view+json": {
       "model_id": "3da5e099a7cd4cdd8509d943ca73c2cd",
       "version_major": 2,
       "version_minor": 0
      },
      "text/plain": [
       "  0%|          | 0/7 [00:00<?, ?it/s]"
      ]
     },
     "metadata": {},
     "output_type": "display_data"
    },
    {
     "name": "stdout",
     "output_type": "stream",
     "text": [
      "C=0.001 0.825 +- 0.009\n",
      "C=0.01 0.840 +- 0.009\n",
      "C=0.1 0.841 +- 0.008\n",
      "C=0.5 0.841 +- 0.007\n",
      "C=1.0 0.841 +- 0.008\n",
      "C=5.0 0.840 +- 0.007\n",
      "C=10.0 0.841 +- 0.008\n"
     ]
    }
   ],
   "source": [
    "# this takes time, use tqdm to monitor progress\n",
    "from tqdm.auto import tqdm\n",
    "\n",
    "n_splits = 5\n",
    "\n",
    "# test regularization to optimize for final model\n",
    "for C in tqdm([0.001, 0.01, 0.1, 0.5, 1.0, 5.0, 10.0]):\n",
    "    kfold = KFold(n_splits=n_splits, shuffle=True, random_state=1)\n",
    "    scores = []\n",
    "\n",
    "    for train_idx, val_idx in kfold.split(df_full_train):\n",
    "        df_train = df_full_train.iloc[train_idx]\n",
    "        df_val = df_full_train.iloc[val_idx]\n",
    "\n",
    "        y_train = df_train.churn.values\n",
    "        y_val = df_val.churn.values\n",
    "\n",
    "        dv, model = train(df_train, y_train, C=C)\n",
    "        y_pred = predict(df_val, dv, model)\n",
    "\n",
    "        auc = roc_auc_score(y_val, y_pred)\n",
    "        scores.append(auc)\n",
    "        \n",
    "    print(\"C=%s %.3f +- %.3f\" % (C, np.mean(scores), np.std(scores)))"
   ]
  },
  {
   "cell_type": "code",
   "execution_count": 413,
   "id": "50fdbdce",
   "metadata": {},
   "outputs": [
    {
     "data": {
      "text/plain": [
       "0.8589665464157648"
      ]
     },
     "execution_count": 413,
     "metadata": {},
     "output_type": "execute_result"
    }
   ],
   "source": [
    "# train full train dataset final model with best C value\n",
    "# 1-2% difference in AUC for testing vs. validation scores is acceptable\n",
    "dv, model = train(df_full_train, df_full_train.churn.values, C=0.5)\n",
    "y_pred = predict(df_test, dv, model)\n",
    "\n",
    "auc = roc_auc_score(y_test, y_pred)\n",
    "auc"
   ]
  },
  {
   "cell_type": "code",
   "execution_count": null,
   "id": "3b98d92e",
   "metadata": {},
   "outputs": [],
   "source": []
  },
  {
   "cell_type": "code",
   "execution_count": null,
   "id": "76e00409",
   "metadata": {},
   "outputs": [],
   "source": []
  },
  {
   "cell_type": "code",
   "execution_count": null,
   "id": "7bc4dae2",
   "metadata": {},
   "outputs": [],
   "source": []
  }
 ],
 "metadata": {
  "kernelspec": {
   "display_name": "Python 3 (ipykernel)",
   "language": "python",
   "name": "python3"
  },
  "language_info": {
   "codemirror_mode": {
    "name": "ipython",
    "version": 3
   },
   "file_extension": ".py",
   "mimetype": "text/x-python",
   "name": "python",
   "nbconvert_exporter": "python",
   "pygments_lexer": "ipython3",
   "version": "3.9.18"
  }
 },
 "nbformat": 4,
 "nbformat_minor": 5
}
